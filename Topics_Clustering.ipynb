{
 "cells": [
  {
   "cell_type": "code",
   "execution_count": 1,
   "metadata": {},
   "outputs": [],
   "source": [
    "import json\n",
    "import pandas as pd\n",
    "import numpy as np\n",
    "import re\n",
    "from collections import Counter\n",
    "import sklearn\n",
    "from sklearn import cluster"
   ]
  },
  {
   "cell_type": "code",
   "execution_count": 2,
   "metadata": {},
   "outputs": [],
   "source": [
    "def flatten(pool):\n",
    "    res = []\n",
    "    for v in pool:\n",
    "        if isinstance(v, list):\n",
    "            res += flatten(v)\n",
    "        else:\n",
    "            res.append(v)\n",
    "    return res "
   ]
  },
  {
   "cell_type": "markdown",
   "metadata": {},
   "source": [
    "# Data exploration"
   ]
  },
  {
   "cell_type": "markdown",
   "metadata": {},
   "source": [
    "I start by looking at the data. How many entries,\n",
    "how many topics, how many words repeats between the topics, \n",
    "how many topics has each post."
   ]
  },
  {
   "cell_type": "code",
   "execution_count": 3,
   "metadata": {},
   "outputs": [],
   "source": [
    "data = pd.read_json('posts_with_topics.json')"
   ]
  },
  {
   "cell_type": "code",
   "execution_count": 4,
   "metadata": {},
   "outputs": [
    {
     "name": "stdout",
     "output_type": "stream",
     "text": [
      "numer of posts: 347\n"
     ]
    },
    {
     "data": {
      "text/html": [
       "<div>\n",
       "<style scoped>\n",
       "    .dataframe tbody tr th:only-of-type {\n",
       "        vertical-align: middle;\n",
       "    }\n",
       "\n",
       "    .dataframe tbody tr th {\n",
       "        vertical-align: top;\n",
       "    }\n",
       "\n",
       "    .dataframe thead th {\n",
       "        text-align: right;\n",
       "    }\n",
       "</style>\n",
       "<table border=\"1\" class=\"dataframe\">\n",
       "  <thead>\n",
       "    <tr style=\"text-align: right;\">\n",
       "      <th></th>\n",
       "      <th>postId</th>\n",
       "      <th>topics</th>\n",
       "    </tr>\n",
       "  </thead>\n",
       "  <tbody>\n",
       "    <tr>\n",
       "      <th>0</th>\n",
       "      <td>2.190123e+30</td>\n",
       "      <td>[Politics, International relations, Donald Tru...</td>\n",
       "    </tr>\n",
       "    <tr>\n",
       "      <th>1</th>\n",
       "      <td>2.190123e+30</td>\n",
       "      <td>[Politics, Donald Trump, Political career of D...</td>\n",
       "    </tr>\n",
       "    <tr>\n",
       "      <th>2</th>\n",
       "      <td>2.190123e+30</td>\n",
       "      <td>[Politics, Donald Trump, Political career of D...</td>\n",
       "    </tr>\n",
       "  </tbody>\n",
       "</table>\n",
       "</div>"
      ],
      "text/plain": [
       "         postId                                             topics\n",
       "0  2.190123e+30  [Politics, International relations, Donald Tru...\n",
       "1  2.190123e+30  [Politics, Donald Trump, Political career of D...\n",
       "2  2.190123e+30  [Politics, Donald Trump, Political career of D..."
      ]
     },
     "execution_count": 4,
     "metadata": {},
     "output_type": "execute_result"
    }
   ],
   "source": [
    "print('numer of posts:',len(data))\n",
    "data[:3]"
   ]
  },
  {
   "cell_type": "code",
   "execution_count": 5,
   "metadata": {},
   "outputs": [
    {
     "data": {
      "text/html": [
       "<div>\n",
       "<style scoped>\n",
       "    .dataframe tbody tr th:only-of-type {\n",
       "        vertical-align: middle;\n",
       "    }\n",
       "\n",
       "    .dataframe tbody tr th {\n",
       "        vertical-align: top;\n",
       "    }\n",
       "\n",
       "    .dataframe thead th {\n",
       "        text-align: right;\n",
       "    }\n",
       "</style>\n",
       "<table border=\"1\" class=\"dataframe\">\n",
       "  <thead>\n",
       "    <tr style=\"text-align: right;\">\n",
       "      <th></th>\n",
       "      <th>Occ</th>\n",
       "    </tr>\n",
       "  </thead>\n",
       "  <tbody>\n",
       "    <tr>\n",
       "      <th>Politics</th>\n",
       "      <td>150</td>\n",
       "    </tr>\n",
       "    <tr>\n",
       "      <th>Government</th>\n",
       "      <td>116</td>\n",
       "    </tr>\n",
       "    <tr>\n",
       "      <th>International relations</th>\n",
       "      <td>76</td>\n",
       "    </tr>\n",
       "    <tr>\n",
       "      <th>Conflicts</th>\n",
       "      <td>67</td>\n",
       "    </tr>\n",
       "    <tr>\n",
       "      <th>Donald Trump</th>\n",
       "      <td>59</td>\n",
       "    </tr>\n",
       "  </tbody>\n",
       "</table>\n",
       "</div>"
      ],
      "text/plain": [
       "                         Occ\n",
       "Politics                 150\n",
       "Government               116\n",
       "International relations   76\n",
       "Conflicts                 67\n",
       "Donald Trump              59"
      ]
     },
     "execution_count": 5,
     "metadata": {},
     "output_type": "execute_result"
    }
   ],
   "source": [
    "# topic occurrences counter\n",
    "\n",
    "z=flatten(list(data['topics']))\n",
    "df_occurrences=pd.DataFrame(Counter(z),index=['Occ']).T.sort_values('Occ',ascending=False)\n",
    "\n",
    "# Map topic to occurences \n",
    "# Needed to choose the font size of the topics\n",
    "occ_map=dict(zip(list(df_occurrences.index),list(df_occurrences.Occ)))\n",
    "\n",
    "df_occurrences.head()"
   ]
  },
  {
   "cell_type": "code",
   "execution_count": 6,
   "metadata": {},
   "outputs": [
    {
     "data": {
      "text/html": [
       "<div>\n",
       "<style scoped>\n",
       "    .dataframe tbody tr th:only-of-type {\n",
       "        vertical-align: middle;\n",
       "    }\n",
       "\n",
       "    .dataframe tbody tr th {\n",
       "        vertical-align: top;\n",
       "    }\n",
       "\n",
       "    .dataframe thead th {\n",
       "        text-align: right;\n",
       "    }\n",
       "</style>\n",
       "<table border=\"1\" class=\"dataframe\">\n",
       "  <thead>\n",
       "    <tr style=\"text-align: right;\">\n",
       "      <th></th>\n",
       "      <th>Occ</th>\n",
       "    </tr>\n",
       "  </thead>\n",
       "  <tbody>\n",
       "    <tr>\n",
       "      <th>politics</th>\n",
       "      <td>9</td>\n",
       "    </tr>\n",
       "    <tr>\n",
       "      <th>relations</th>\n",
       "      <td>8</td>\n",
       "    </tr>\n",
       "    <tr>\n",
       "      <th>government</th>\n",
       "      <td>7</td>\n",
       "    </tr>\n",
       "    <tr>\n",
       "      <th>korea</th>\n",
       "      <td>7</td>\n",
       "    </tr>\n",
       "    <tr>\n",
       "      <th>sports</th>\n",
       "      <td>5</td>\n",
       "    </tr>\n",
       "  </tbody>\n",
       "</table>\n",
       "</div>"
      ],
      "text/plain": [
       "            Occ\n",
       "politics      9\n",
       "relations     8\n",
       "government    7\n",
       "korea         7\n",
       "sports        5"
      ]
     },
     "execution_count": 6,
     "metadata": {},
     "output_type": "execute_result"
    }
   ],
   "source": [
    "# word occurrences couter\n",
    "\n",
    "topics=list(set(flatten(list(data['topics']))))\n",
    "topics_split=[re.sub('[\\(\\)1-9-]','',a).lower().replace('of','').replace('and','').replace('the','').split() for a in topics]\n",
    "\n",
    "z=Counter(flatten(topics_split))\n",
    "df_occurence_kw=pd.DataFrame(Counter(z),index=['Occ']).T.sort_values('Occ',ascending=False)\n",
    "\n",
    "df_occurence_kw.head()"
   ]
  },
  {
   "cell_type": "code",
   "execution_count": 7,
   "metadata": {},
   "outputs": [
    {
     "data": {
      "text/html": [
       "<div>\n",
       "<style scoped>\n",
       "    .dataframe tbody tr th:only-of-type {\n",
       "        vertical-align: middle;\n",
       "    }\n",
       "\n",
       "    .dataframe tbody tr th {\n",
       "        vertical-align: top;\n",
       "    }\n",
       "\n",
       "    .dataframe thead th {\n",
       "        text-align: right;\n",
       "    }\n",
       "</style>\n",
       "<table border=\"1\" class=\"dataframe\">\n",
       "  <thead>\n",
       "    <tr style=\"text-align: right;\">\n",
       "      <th></th>\n",
       "      <th>Topics per Post Counter</th>\n",
       "    </tr>\n",
       "  </thead>\n",
       "  <tbody>\n",
       "    <tr>\n",
       "      <th>5</th>\n",
       "      <td>76</td>\n",
       "    </tr>\n",
       "    <tr>\n",
       "      <th>1</th>\n",
       "      <td>40</td>\n",
       "    </tr>\n",
       "    <tr>\n",
       "      <th>3</th>\n",
       "      <td>37</td>\n",
       "    </tr>\n",
       "    <tr>\n",
       "      <th>4</th>\n",
       "      <td>36</td>\n",
       "    </tr>\n",
       "    <tr>\n",
       "      <th>2</th>\n",
       "      <td>31</td>\n",
       "    </tr>\n",
       "  </tbody>\n",
       "</table>\n",
       "</div>"
      ],
      "text/plain": [
       "   Topics per Post Counter\n",
       "5                       76\n",
       "1                       40\n",
       "3                       37\n",
       "4                       36\n",
       "2                       31"
      ]
     },
     "execution_count": 7,
     "metadata": {},
     "output_type": "execute_result"
    }
   ],
   "source": [
    "# counter of topics per single post\n",
    "\n",
    "# the data shows that many posts have a single topic (~40), \n",
    "# making the cross selection harder\n",
    "\n",
    "len_topics=pd.DataFrame(Counter([len(data.loc[i,'topics']) for i in range(len(data))]),\n",
    "             index=['Topics per Post Counter']).T.sort_values('Topics per Post Counter',ascending=False).head()\n",
    "len_topics.head()"
   ]
  },
  {
   "cell_type": "code",
   "execution_count": 8,
   "metadata": {},
   "outputs": [
    {
     "name": "stdout",
     "output_type": "stream",
     "text": [
      "number of topics: 110\n"
     ]
    }
   ],
   "source": [
    "#Mapping betweent topics and categorical index\n",
    "\n",
    "cat_map=dict(zip(list(range(len(topics))),topics))\n",
    "print('number of topics:',len(cat_map))"
   ]
  },
  {
   "cell_type": "markdown",
   "metadata": {},
   "source": [
    "# Defining a distance between topics"
   ]
  },
  {
   "cell_type": "markdown",
   "metadata": {},
   "source": [
    "In order to slip the word cloud into different topics, we need to define what we mean by \"different\".\n",
    "In practice we need to define a distance between topics. Here I attempt 3 possible methods.\n",
    "\n",
    "1 - Computing eucledead distance between vectors, built by factorization of the occurence sparse-matrix \n",
    "\n",
    "2 - Distance by topic appearing in the same post (shallow relationship) \n",
    "\n",
    "3 - The above, plus distance defined by common words in the Topic title"
   ]
  },
  {
   "cell_type": "markdown",
   "metadata": {},
   "source": [
    "Additional notes \n",
    "\n",
    "Distances will either use a euclidian method, that can be used for Ward linkage, or a non-euclidea method that will restrict us to Single, Complete, and average linkage.\n",
    "\n",
    "\n"
   ]
  },
  {
   "cell_type": "markdown",
   "metadata": {},
   "source": [
    "# Factorization of Occurence sparse-matrix"
   ]
  },
  {
   "cell_type": "markdown",
   "metadata": {},
   "source": [
    "INPUT: Here we need to choose the factorization dimention.\n",
    "This will provide the dimension of the feature vectors, needed to compute distances between topics.\n",
    "It is sensible to choose for a number of features similar to the maximal amount of word-clouds."
   ]
  },
  {
   "cell_type": "code",
   "execution_count": 9,
   "metadata": {},
   "outputs": [],
   "source": [
    "from scipy.sparse.linalg import svds\n",
    "from scipy.sparse import csc_matrix"
   ]
  },
  {
   "cell_type": "code",
   "execution_count": 10,
   "metadata": {},
   "outputs": [],
   "source": [
    "# Built the occurence sparse-matrix\n",
    "\n",
    "test_matrix=pd.DataFrame()\n",
    "\n",
    "for i in range(len(topics)):\n",
    "    temp_list=[]\n",
    "    for j in range(len(data)):\n",
    "        if topics[i] in data.topics[j]:\n",
    "            temp_list.append(1)\n",
    "        else:\n",
    "            temp_list.append(0)\n",
    "    test_matrix[topics[i]]=temp_list\n",
    "test_matrix=test_matrix"
   ]
  },
  {
   "cell_type": "code",
   "execution_count": 11,
   "metadata": {},
   "outputs": [],
   "source": [
    "# Factorization\n",
    "#--------------------------\n",
    "\n",
    "NUMBER_OF_FACTORS_MF = 50\n",
    "\n",
    "#Creating a sparse pivot table with users in rows and items in columns\n",
    "users_items_pivot_matrix = csc_matrix(test_matrix.values, dtype=float)\n",
    "users_ids = list(data.postId)\n",
    "\n",
    "#The number of factors to factor the user-item matrix.\n",
    "\n",
    "#Performs matrix factorization of the original user item matrix\n",
    "U, sigma, Vt = svds(users_items_pivot_matrix, k = NUMBER_OF_FACTORS_MF)\n",
    "sigma = np.diag(sigma)\n",
    "all_user_predicted_ratings = np.dot(np.dot(U, sigma), Vt)\n",
    "\n",
    "#Converting the reconstructed matrix back to a Pandas dataframe\n",
    "cf_preds_df = pd.DataFrame(all_user_predicted_ratings, columns = topics, index=users_ids).transpose()\n",
    "cf_preds_df.head(10)\n",
    "\n",
    "distance_rec=np.zeros((len(topics),len(topics)))\n",
    "\n",
    "for i in range(len(topics)):\n",
    "    for j in range(i):  \n",
    "        distance_rec[i,j]=np.linalg.norm(Vt.T[i]-Vt.T[j])\n",
    "\n",
    "distance_rec=distance_rec+distance_rec.T #simmetrization \n",
    "#distance_rec=distance_rec/np.amax(distance_rec)"
   ]
  },
  {
   "cell_type": "markdown",
   "metadata": {},
   "source": [
    "## Visualize distribution\n",
    "\n",
    "We can visualize the distribution of the distances in out data-set. These are normalized distances between 0 and 1. For succesful clustering, we would expect these distances to be clearly distributed over the whole interval."
   ]
  },
  {
   "cell_type": "code",
   "execution_count": 12,
   "metadata": {},
   "outputs": [],
   "source": [
    "from matplotlib import pyplot as plt"
   ]
  },
  {
   "cell_type": "code",
   "execution_count": 13,
   "metadata": {},
   "outputs": [
    {
     "name": "stdout",
     "output_type": "stream",
     "text": [
      "min distance: 0.0\n",
      "max distance: 0.51\n"
     ]
    },
    {
     "data": {
      "image/png": "[encoded data removed]",
      "text/plain": [
       "<Figure size 432x288 with 1 Axes>"
      ]
     },
     "metadata": {},
     "output_type": "display_data"
    },
    {
     "name": "stdout",
     "output_type": "stream",
     "text": [
      "min distance: 0.0\n",
      "max distance: 0.57\n"
     ]
    },
    {
     "data": {
      "image/png": "[encoded data removed]",
      "text/plain": [
       "<Figure size 432x288 with 1 Axes>"
      ]
     },
     "metadata": {},
     "output_type": "display_data"
    },
    {
     "name": "stdout",
     "output_type": "stream",
     "text": [
      "min distance: 0.0\n",
      "max distance: 0.59\n"
     ]
    },
    {
     "data": {
      "image/png": "[encoded data removed]",
      "text/plain": [
       "<Figure size 432x288 with 1 Axes>"
      ]
     },
     "metadata": {},
     "output_type": "display_data"
    }
   ],
   "source": [
    "for n in range(2,5):\n",
    "    NUMBER_OF_FACTORS_MF = n\n",
    "\n",
    "    #Creating a sparse pivot table with users in rows and items in columns\n",
    "    users_items_pivot_matrix = csc_matrix(test_matrix.values, dtype=float)\n",
    "    users_ids = list(data.postId)\n",
    "\n",
    "    #The number of factors to factor the user-item matrix.\n",
    "\n",
    "    #Performs matrix factorization of the original user item matrix\n",
    "    U, sigma, Vt = svds(users_items_pivot_matrix, k = NUMBER_OF_FACTORS_MF)\n",
    "    sigma = np.diag(sigma)\n",
    "    all_user_predicted_ratings = np.dot(np.dot(U, sigma), Vt)\n",
    "\n",
    "    #Converting the reconstructed matrix back to a Pandas dataframe\n",
    "    cf_preds_df = pd.DataFrame(all_user_predicted_ratings, columns = topics, index=users_ids).transpose()\n",
    "    cf_preds_df.head(10)\n",
    "\n",
    "    distance_rec=np.zeros((len(topics),len(topics)))\n",
    "\n",
    "    for i in range(len(topics)):\n",
    "        for j in range(i):  \n",
    "            distance_rec[i,j]=np.linalg.norm(Vt.T[i]-Vt.T[j])\n",
    "\n",
    "    distance_rec=distance_rec+distance_rec.T #simmetrization \n",
    "    #distance_rec=distance_rec/np.amax(distance_rec)\n",
    "\n",
    "    distribution_list=(distance_rec).tolist()[0]\n",
    "\n",
    "    data_hist = distribution_list\n",
    "\n",
    "    # fixed bin size\n",
    "    bins = np.arange(0, 1, 0.01) # fixed bin size\n",
    "\n",
    "    print('min distance:',min(data_hist))\n",
    "    print('max distance:', round(max(data_hist),2))\n",
    "    plt.xlim([min(data_hist), max(data_hist)])\n",
    "\n",
    "    plt.hist(data_hist, bins=bins, alpha=0.5)\n",
    "    plt.title('Random Gaussian data (fixed bin size)')\n",
    "    plt.xlabel('variable X (bin size = 5)')\n",
    "    plt.ylabel('count')\n",
    "\n",
    "    plt.show()"
   ]
  },
  {
   "cell_type": "markdown",
   "metadata": {},
   "source": [
    "# Standard Occurence Distance"
   ]
  },
  {
   "cell_type": "markdown",
   "metadata": {},
   "source": [
    "Here we compute the distance matrix by common appearance of the topics.\n",
    "This distance is a shallow distance, as it does not consider transitivity.\n",
    "So if {'Topic A','Topic B'} and {'Topic B','Topic C'} are present in the data set, \n",
    "then 'Topic A' and 'Topic C' are not considered near. This could be improved at the cost of computation time needed to go trough all the possible \"linked\" occurrences. Here I only tested the shallow form of this distance."
   ]
  },
  {
   "cell_type": "code",
   "execution_count": 14,
   "metadata": {},
   "outputs": [],
   "source": [
    "# distance matrix by topics appearing in the same post\n",
    "\n",
    "distance=np.zeros((len(topics),len(topics)))\n",
    "\n",
    "for i in range(len(topics)):\n",
    "    for j in range(i):  \n",
    "        common=len(data[(data['topics'].apply(lambda x: topics[i] in x))&(data['topics'].apply(lambda x: topics[j] in x))])\n",
    "        distance[i,j]=1-common/max(df_occurrences.loc[topics[i],'Occ'],df_occurrences.loc[topics[j],'Occ'])\n",
    "\n",
    "distance=distance+distance.T #simmetrization "
   ]
  },
  {
   "cell_type": "markdown",
   "metadata": {},
   "source": [
    "Additionaly, we consider the distance between topics that contain the same words (for example: \"Donald Trump\" and \"Donald Trump Family\"). This distance can be added to the above for stronger clustering of topics that are clearly related. This method does not consider stemming of similar words (for example \"War\" and \"Warfare\") and could be inproved by it."
   ]
  },
  {
   "cell_type": "code",
   "execution_count": 15,
   "metadata": {},
   "outputs": [],
   "source": [
    "# distance matrix by shared common words between topics\n",
    "\n",
    "distance_2=np.zeros((len(topics),len(topics)))\n",
    "\n",
    "for i in range(len(topics_split)):\n",
    "    for j in range(i):\n",
    "        for ele in (topics_split[i]):\n",
    "            if ele in topics_split[j]:\n",
    "                distance_2[i,j]+=1\n",
    "                \n",
    "distance_2=distance_2+distance_2.T #simmetrization\n",
    "distance_2=distance_2/np.amax(distance_2) #normalization"
   ]
  },
  {
   "cell_type": "code",
   "execution_count": 16,
   "metadata": {},
   "outputs": [],
   "source": [
    "distance_fin=distance-distance_2 # additive distance constidering both methods\n",
    "distance_fin[distance_fin < 0] = 0 # Make sure distances are always positive definite"
   ]
  },
  {
   "cell_type": "markdown",
   "metadata": {},
   "source": [
    "## Visualize distance matrices\n",
    "Darker spots have lower distances"
   ]
  },
  {
   "cell_type": "code",
   "execution_count": 17,
   "metadata": {},
   "outputs": [
    {
     "data": {
      "image/png": "[encoded data removed]",
      "text/plain": [
       "<Figure size 432x288 with 1 Axes>"
      ]
     },
     "metadata": {},
     "output_type": "display_data"
    },
    {
     "data": {
      "image/png": "[encoded data removed]",
      "text/plain": [
       "<Figure size 432x288 with 1 Axes>"
      ]
     },
     "metadata": {},
     "output_type": "display_data"
    },
    {
     "data": {
      "image/png": "[encoded data removed]",
      "text/plain": [
       "<Figure size 432x288 with 1 Axes>"
      ]
     },
     "metadata": {},
     "output_type": "display_data"
    },
    {
     "data": {
      "image/png": "[encoded data removed]",
      "text/plain": [
       "<Figure size 432x288 with 1 Axes>"
      ]
     },
     "metadata": {},
     "output_type": "display_data"
    }
   ],
   "source": [
    "import matplotlib.pyplot as plt\n",
    "import numpy as np\n",
    "\n",
    "plt.imshow(distance, cmap='hot', interpolation='nearest')\n",
    "plt.show()\n",
    "plt.imshow(-distance_2, cmap='hot', interpolation='nearest')\n",
    "plt.show()\n",
    "plt.imshow(distance_fin, cmap='hot', interpolation='nearest')\n",
    "plt.show()\n",
    "plt.imshow(distance_rec/np.max(distance_rec), cmap='hot', interpolation='nearest')\n",
    "plt.show()"
   ]
  },
  {
   "cell_type": "markdown",
   "metadata": {},
   "source": [
    "# Clustering"
   ]
  },
  {
   "cell_type": "markdown",
   "metadata": {},
   "source": [
    "Using the distances defined above we can now cluster the topics. The software we are interested in building has a hierarchical structure and the number of clusters is not defined. For such case I decided to use AgglomerativeClustering, an algorithm botton-up that compare distances of topic from the leaf of a tree and aggregate nearest topics. This builds a tree stucture that can be used to have a variable number of clusters depending on the depth of the node we look at. The method is not as fast as K-means (top-bottom). Nevetheless, we do not have to compute the clustering for each number of splits. We are going to build a dataframe that can be then stored and can be read efficently. So even if building/updating the tree is not time-efficient, response time will be short."
   ]
  },
  {
   "cell_type": "markdown",
   "metadata": {},
   "source": [
    "Additional notes:\n",
    "    \n",
    "For large sumple sets, we should use K-means with complexity O(K*N^2Log_K(N))\n",
    "Aggregation has complexity O(N^3)\n",
    "\n",
    "We could use two methods to reduce complexity of Aggregations:\n",
    "### - Add connectivity restrictions (reduce one N into K, for example KNN)\n",
    "### - Start contrusting the tree from a smaller set of Samples \n",
    "\n",
    "For the second we could use a K-Mean clustering or other clustering method for a fine clustering and then use the clusters as reppresentatives (either usind centroid, or most common entry). This way we will reduce N to a smaller size.\n",
    "\n"
   ]
  },
  {
   "cell_type": "markdown",
   "metadata": {},
   "source": [
    "## Silhouette Coefficient\n",
    "\n",
    "- a: The mean distance between a sample and all other points in the same class.\n",
    "- b: The mean distance between a sample and all other points in the next nearest cluster.\n",
    "\n",
    "s=(b-a)/max(b,a)\n",
    "\n",
    "- The score is bounded between -1 for incorrect clustering and +1 for highly dense clustering. Scores around zero indicate overlapping clusters.\n",
    "- The score is higher when clusters are dense and well separated, which relates to a standard concept of a cluster.\n",
    "\n",
    "Drawbacks: \n",
    "The Silhouette Coefficient is generally higher for convex clusters than other concepts of clusters, such as density based clusters like those obtained through DBSCAN."
   ]
  },
  {
   "cell_type": "code",
   "execution_count": 18,
   "metadata": {},
   "outputs": [],
   "source": [
    "import numpy as np\n",
    "from sklearn import metrics\n",
    "from sklearn.cluster import KMeans\n",
    "\n",
    "Standard=[]\n",
    "Composed_Single=[]\n",
    "Composed_Complete=[]\n",
    "Composed_Average=[]\n",
    "Factorization=[]\n",
    "    \n",
    "    \n",
    "for en in range(2,30):\n",
    "    num_clusters=en\n",
    "\n",
    "    #-------------- Using only distance by common posts\n",
    "\n",
    "    cluster_str=sklearn.cluster.AgglomerativeClustering(n_clusters=num_clusters, affinity='precomputed',\n",
    "                                           linkage='complete')\n",
    "    cluster_str.fit(distance)\n",
    "    temp=pd.DataFrame(dict(zip(topics,cluster_str.labels_)),index=['Cluster_standard']).T\n",
    "\n",
    "    #-------------- Using combined distance (common posts+common words)\n",
    "    cluster_com_com=sklearn.cluster.AgglomerativeClustering(n_clusters=num_clusters, affinity='precomputed',\n",
    "                                           linkage='complete')\n",
    "    cluster_com_com.fit(distance_fin)\n",
    "    #temp_2=pd.DataFrame(dict(zip(topics,cluster_com.labels_)),index=['Cluster_combined']).T\n",
    "     \n",
    "    #-------------- Using combined distance (common posts+common words)\n",
    "    cluster_com_sing=sklearn.cluster.AgglomerativeClustering(n_clusters=num_clusters, affinity='precomputed',\n",
    "                                           linkage='single')\n",
    "    cluster_com_sing.fit(distance_fin)\n",
    "    #temp_2=pd.DataFrame(dict(zip(topics,cluster_com.labels_)),index=['Cluster_combined']).T\n",
    "     \n",
    "    #-------------- Using combined distance (common posts+common words)\n",
    "    cluster_com_avg=sklearn.cluster.AgglomerativeClustering(n_clusters=num_clusters, affinity='precomputed',\n",
    "                                           linkage='average')\n",
    "    cluster_com_avg.fit(distance_fin)\n",
    "    temp_2=pd.DataFrame(dict(zip(topics,cluster_com_avg.labels_)),index=['Cluster_combined']).T\n",
    "\n",
    "\n",
    "    #-------------- Using factorization distance \n",
    "    cluster_rec=sklearn.cluster.AgglomerativeClustering(n_clusters=num_clusters, affinity='euclidean',\n",
    "                                           linkage='ward')\n",
    "    cluster_rec.fit(Vt.T)#distance_rec\n",
    "    temp_3=pd.DataFrame(dict(zip(topics,cluster_rec.labels_)),index=['Cluster_Rec']).T\n",
    "\n",
    "    labels = cluster_rec.labels_\n",
    "    \n",
    "    #print(en,'--------')\n",
    "    #print('Standard')\n",
    "    Standard.append(metrics.silhouette_score(distance, cluster_str.labels_,metric=\"precomputed\"))\n",
    "    #print(metrics.silhouette_score(distance, cluster_str.labels_,metric=\"precomputed\"))\n",
    "    #print('Composed Single')\n",
    "    Composed_Single.append(metrics.silhouette_score(distance_fin, cluster_com_sing.labels_,metric=\"precomputed\"))\n",
    "    #print(metrics.silhouette_score(distance_fin, cluster_com_sing.labels_,metric=\"precomputed\"))\n",
    "    #print('Composed Complete')\n",
    "    Composed_Complete.append(metrics.silhouette_score(distance_fin, cluster_com_com.labels_,metric=\"precomputed\"))\n",
    "    #print(metrics.silhouette_score(distance_fin, cluster_com_com.labels_,metric=\"precomputed\"))\n",
    "    #print('Composed Average')\n",
    "    Composed_Average.append(metrics.silhouette_score(distance_fin, cluster_com_avg.labels_,metric=\"precomputed\"))\n",
    "    #print(metrics.silhouette_score(distance_fin, cluster_com_avg.labels_,metric=\"precomputed\"))\n",
    "    #print('Factorization')\n",
    "    Factorization.append(metrics.silhouette_score(distance_rec, cluster_rec.labels_,metric=\"precomputed\"))\n",
    "    #print(metrics.silhouette_score(distance_rec, cluster_rec.labels_,metric=\"precomputed\"))"
   ]
  },
  {
   "cell_type": "code",
   "execution_count": 19,
   "metadata": {},
   "outputs": [
    {
     "data": {
      "text/plain": [
       "<matplotlib.axes._subplots.AxesSubplot at 0x1a21410d68>"
      ]
     },
     "execution_count": 19,
     "metadata": {},
     "output_type": "execute_result"
    },
    {
     "data": {
      "image/png": "[encoded data removed]",
      "text/plain": [
       "<Figure size 864x432 with 1 Axes>"
      ]
     },
     "metadata": {},
     "output_type": "display_data"
    }
   ],
   "source": [
    "pd.DataFrame({'Standard':Standard,'Composed_Single':Composed_Single,\n",
    "              'Composed_Complete':Composed_Complete,'Composed_Average':Composed_Average,\n",
    "              'Factorization':Factorization}).plot(figsize=(12,6))"
   ]
  },
  {
   "cell_type": "code",
   "execution_count": 20,
   "metadata": {},
   "outputs": [],
   "source": [
    "#-------------- Build DataFrame to compare classes\n",
    "final=pd.merge(df_occurrences, temp, left_index=True, right_index=True)\n",
    "final=pd.merge(final, temp_2, left_index=True, right_index=True)\n",
    "final=pd.merge(final, temp_3, left_index=True, right_index=True)"
   ]
  },
  {
   "cell_type": "code",
   "execution_count": 21,
   "metadata": {},
   "outputs": [],
   "source": [
    "# define number of clusters - only needed to compare methods. \n",
    "# The clustering procedure actually provide us with a tree structure \n",
    "# independent of number of clusters\n",
    "\n",
    "num_clusters=2\n",
    "\n",
    "#-------------- Using only distance by common posts\n",
    "\n",
    "cluster_str=sklearn.cluster.AgglomerativeClustering(n_clusters=num_clusters, affinity='precomputed',\n",
    "                                       linkage='average')\n",
    "cluster_str.fit(distance)\n",
    "temp=pd.DataFrame(dict(zip(topics,cluster_str.labels_)),index=['Cluster_standard']).T\n",
    "\n",
    "#-------------- Using combined distance (common posts+common words)\n",
    "cluster_com=sklearn.cluster.AgglomerativeClustering(n_clusters=num_clusters, affinity='precomputed',\n",
    "                                       linkage='complete')\n",
    "cluster_com.fit(distance_fin)\n",
    "temp_2=pd.DataFrame(dict(zip(topics,cluster_com.labels_)),index=['Cluster_combined']).T\n",
    "\n",
    "#-------------- Using factorization distance \n",
    "cluster_rec=sklearn.cluster.AgglomerativeClustering(n_clusters=num_clusters, affinity='euclidean',\n",
    "                                       linkage='ward')\n",
    "cluster_rec.fit(Vt.T)#distance_rec\n",
    "temp_3=pd.DataFrame(dict(zip(topics,cluster_rec.labels_)),index=['Cluster_Rec']).T"
   ]
  },
  {
   "cell_type": "markdown",
   "metadata": {},
   "source": [
    "# K means"
   ]
  },
  {
   "cell_type": "code",
   "execution_count": 22,
   "metadata": {},
   "outputs": [],
   "source": [
    "from sklearn.cluster import KMeans\n",
    "import numpy as np"
   ]
  },
  {
   "cell_type": "code",
   "execution_count": 23,
   "metadata": {},
   "outputs": [],
   "source": [
    "levels=[]\n",
    "kmeans = KMeans(n_clusters=2, random_state=0).fit(Vt.T)\n",
    "labels_km=kmeans.labels_\n",
    "levels.append(labels_km)\n",
    "temp_R=[]\n",
    "temp_L=[]\n",
    "for i in range(len(Vt.T)):\n",
    "    if labels_km[i]:\n",
    "        temp_R.append(Vt.T[i])\n",
    "    else:\n",
    "        temp_L.append(Vt.T[i])\n",
    "kmeans_R = KMeans(n_clusters=2, random_state=0).fit(temp_R)\n",
    "kmeans_L = KMeans(n_clusters=2, random_state=0).fit(temp_L)"
   ]
  },
  {
   "cell_type": "code",
   "execution_count": 24,
   "metadata": {},
   "outputs": [],
   "source": [
    "kmeans_Right_label=list(kmeans_R.labels_)"
   ]
  },
  {
   "cell_type": "code",
   "execution_count": 25,
   "metadata": {},
   "outputs": [],
   "source": [
    "kmeans_Left_label=list(kmeans_L.labels_+2)"
   ]
  },
  {
   "cell_type": "code",
   "execution_count": 26,
   "metadata": {},
   "outputs": [
    {
     "name": "stdout",
     "output_type": "stream",
     "text": [
      "K-means 2 levels\n",
      "0.4562763711650913\n",
      "K-means 4 levels\n",
      "0.5369717487322314\n"
     ]
    }
   ],
   "source": [
    "print('K-means 2 levels')\n",
    "print(metrics.silhouette_score(Vt.T,labels_km))\n",
    "print('K-means 4 levels')\n",
    "print(metrics.silhouette_score(temp_R+temp_L,kmeans_Right_label+kmeans_Left_label))"
   ]
  },
  {
   "cell_type": "markdown",
   "metadata": {},
   "source": [
    "## Calinski-Harabaz Index\n",
    "\n",
    "- Needs Eucledean distance\n",
    "- Ratio of the between-clusters dispersion mean and the within-cluster dispersion"
   ]
  },
  {
   "cell_type": "code",
   "execution_count": 27,
   "metadata": {},
   "outputs": [],
   "source": [
    "from sklearn import metrics"
   ]
  },
  {
   "cell_type": "code",
   "execution_count": 28,
   "metadata": {},
   "outputs": [
    {
     "name": "stdout",
     "output_type": "stream",
     "text": [
      "Higher is better\n",
      "---------------\n",
      "Factorization 2 levels\n",
      "33.72868206252934\n",
      "K-means 2 levels\n",
      "34.17404021376078\n",
      "K-means 4 levels\n",
      "41.4903040470964\n"
     ]
    }
   ],
   "source": [
    "print('Higher is better')\n",
    "print('---------------')\n",
    "\n",
    "print('Factorization {} levels'.format(num_clusters))\n",
    "print(metrics.calinski_harabaz_score(Vt.T, cluster_rec.labels_))\n",
    "print('K-means 2 levels')\n",
    "print(metrics.calinski_harabaz_score(Vt.T,labels_km))\n",
    "print('K-means 4 levels')\n",
    "print(metrics.calinski_harabaz_score(temp_R+temp_L,kmeans_Right_label+kmeans_Left_label))"
   ]
  },
  {
   "cell_type": "markdown",
   "metadata": {},
   "source": [
    "## Davies Bouldin Score\n",
    "\n",
    "- Needs Eucledean distance\n",
    "- The index is defined as the average similarity between each cluster "
   ]
  },
  {
   "cell_type": "code",
   "execution_count": 29,
   "metadata": {},
   "outputs": [
    {
     "name": "stdout",
     "output_type": "stream",
     "text": [
      "Lower is better\n",
      "---------------\n",
      "Factorization 2 levels\n",
      "0.6944943834579851\n",
      "K-means 2 levels\n",
      "0.9542677423919383\n",
      "K-means 4 levels\n",
      "0.5048638139530034\n"
     ]
    },
    {
     "name": "stderr",
     "output_type": "stream",
     "text": [
      "/anaconda3/lib/python3.6/site-packages/sklearn/metrics/cluster/unsupervised.py:342: RuntimeWarning: divide by zero encountered in true_divide\n",
      "  score = (intra_dists[:, None] + intra_dists) / centroid_distances\n",
      "/anaconda3/lib/python3.6/site-packages/sklearn/metrics/cluster/unsupervised.py:342: RuntimeWarning: divide by zero encountered in true_divide\n",
      "  score = (intra_dists[:, None] + intra_dists) / centroid_distances\n",
      "/anaconda3/lib/python3.6/site-packages/sklearn/metrics/cluster/unsupervised.py:342: RuntimeWarning: divide by zero encountered in true_divide\n",
      "  score = (intra_dists[:, None] + intra_dists) / centroid_distances\n",
      "/anaconda3/lib/python3.6/site-packages/sklearn/metrics/cluster/unsupervised.py:342: RuntimeWarning: invalid value encountered in true_divide\n",
      "  score = (intra_dists[:, None] + intra_dists) / centroid_distances\n"
     ]
    }
   ],
   "source": [
    "print('Lower is better')\n",
    "print('---------------')\n",
    "\n",
    "print('Factorization {} levels'.format(num_clusters))\n",
    "print(metrics.davies_bouldin_score(Vt.T, cluster_rec.labels_))\n",
    "print('K-means 2 levels')\n",
    "print(metrics.davies_bouldin_score(Vt.T,labels_km))\n",
    "print('K-means 4 levels')\n",
    "print(metrics.davies_bouldin_score(temp_R+temp_L,kmeans_Right_label+kmeans_Left_label))"
   ]
  },
  {
   "cell_type": "code",
   "execution_count": 30,
   "metadata": {},
   "outputs": [
    {
     "data": {
      "text/html": [
       "<div>\n",
       "<style scoped>\n",
       "    .dataframe tbody tr th:only-of-type {\n",
       "        vertical-align: middle;\n",
       "    }\n",
       "\n",
       "    .dataframe tbody tr th {\n",
       "        vertical-align: top;\n",
       "    }\n",
       "\n",
       "    .dataframe thead th {\n",
       "        text-align: right;\n",
       "    }\n",
       "</style>\n",
       "<table border=\"1\" class=\"dataframe\">\n",
       "  <thead>\n",
       "    <tr style=\"text-align: right;\">\n",
       "      <th></th>\n",
       "      <th>0</th>\n",
       "    </tr>\n",
       "  </thead>\n",
       "  <tbody>\n",
       "    <tr>\n",
       "      <th>Politics</th>\n",
       "      <td>1.0</td>\n",
       "    </tr>\n",
       "    <tr>\n",
       "      <th>Warfare</th>\n",
       "      <td>1.0</td>\n",
       "    </tr>\n",
       "    <tr>\n",
       "      <th>Foreign policy</th>\n",
       "      <td>1.0</td>\n",
       "    </tr>\n",
       "    <tr>\n",
       "      <th>Government of North Korea</th>\n",
       "      <td>1.0</td>\n",
       "    </tr>\n",
       "    <tr>\n",
       "      <th>Presidency of Donald Trump</th>\n",
       "      <td>1.0</td>\n",
       "    </tr>\n",
       "    <tr>\n",
       "      <th>Later lives</th>\n",
       "      <td>1.0</td>\n",
       "    </tr>\n",
       "    <tr>\n",
       "      <th>Diplomacy</th>\n",
       "      <td>1.0</td>\n",
       "    </tr>\n",
       "    <tr>\n",
       "      <th>Government of Korea</th>\n",
       "      <td>1.0</td>\n",
       "    </tr>\n",
       "    <tr>\n",
       "      <th>Israel</th>\n",
       "      <td>1.0</td>\n",
       "    </tr>\n",
       "    <tr>\n",
       "      <th>Crimes</th>\n",
       "      <td>1.0</td>\n",
       "    </tr>\n",
       "    <tr>\n",
       "      <th>Politics of Asia</th>\n",
       "      <td>1.0</td>\n",
       "    </tr>\n",
       "    <tr>\n",
       "      <th>Politics of Israel</th>\n",
       "      <td>1.0</td>\n",
       "    </tr>\n",
       "    <tr>\n",
       "      <th>Sports</th>\n",
       "      <td>1.0</td>\n",
       "    </tr>\n",
       "    <tr>\n",
       "      <th>Social institutions</th>\n",
       "      <td>1.0</td>\n",
       "    </tr>\n",
       "    <tr>\n",
       "      <th>Culture</th>\n",
       "      <td>1.0</td>\n",
       "    </tr>\n",
       "    <tr>\n",
       "      <th>Criminal law</th>\n",
       "      <td>1.0</td>\n",
       "    </tr>\n",
       "    <tr>\n",
       "      <th>Natural disasters</th>\n",
       "      <td>1.0</td>\n",
       "    </tr>\n",
       "    <tr>\n",
       "      <th>Egypt–Israel relations</th>\n",
       "      <td>1.0</td>\n",
       "    </tr>\n",
       "    <tr>\n",
       "      <th>Terrorism</th>\n",
       "      <td>1.0</td>\n",
       "    </tr>\n",
       "    <tr>\n",
       "      <th>Migration</th>\n",
       "      <td>1.0</td>\n",
       "    </tr>\n",
       "    <tr>\n",
       "      <th>International association football competitions</th>\n",
       "      <td>1.0</td>\n",
       "    </tr>\n",
       "    <tr>\n",
       "      <th>Arab rebellions</th>\n",
       "      <td>1.0</td>\n",
       "    </tr>\n",
       "  </tbody>\n",
       "</table>\n",
       "</div>"
      ],
      "text/plain": [
       "                                                   0\n",
       "Politics                                         1.0\n",
       "Warfare                                          1.0\n",
       "Foreign policy                                   1.0\n",
       "Government of North Korea                        1.0\n",
       "Presidency of Donald Trump                       1.0\n",
       "Later lives                                      1.0\n",
       "Diplomacy                                        1.0\n",
       "Government of Korea                              1.0\n",
       "Israel                                           1.0\n",
       "Crimes                                           1.0\n",
       "Politics of Asia                                 1.0\n",
       "Politics of Israel                               1.0\n",
       "Sports                                           1.0\n",
       "Social institutions                              1.0\n",
       "Culture                                          1.0\n",
       "Criminal law                                     1.0\n",
       "Natural disasters                                1.0\n",
       "Egypt–Israel relations                           1.0\n",
       "Terrorism                                        1.0\n",
       "Migration                                        1.0\n",
       "International association football competitions  1.0\n",
       "Arab rebellions                                  1.0"
      ]
     },
     "execution_count": 30,
     "metadata": {},
     "output_type": "execute_result"
    }
   ],
   "source": [
    "class_km=pd.DataFrame(dict(zip(list(final.index),labels_km)),index=[0]).T\n",
    "class_km[class_km==1].dropna()"
   ]
  },
  {
   "cell_type": "markdown",
   "metadata": {},
   "source": [
    "## Compare Clustering\n",
    "\n",
    "Here we can compare clusters created with different distances. Some clear topics like sport and politics are well separated. Some more subtile differences like International Politics are handled differently by each metric choice."
   ]
  },
  {
   "cell_type": "code",
   "execution_count": 31,
   "metadata": {},
   "outputs": [
    {
     "data": {
      "text/html": [
       "<div>\n",
       "<style scoped>\n",
       "    .dataframe tbody tr th:only-of-type {\n",
       "        vertical-align: middle;\n",
       "    }\n",
       "\n",
       "    .dataframe tbody tr th {\n",
       "        vertical-align: top;\n",
       "    }\n",
       "\n",
       "    .dataframe thead th {\n",
       "        text-align: right;\n",
       "    }\n",
       "</style>\n",
       "<table border=\"1\" class=\"dataframe\">\n",
       "  <thead>\n",
       "    <tr style=\"text-align: right;\">\n",
       "      <th></th>\n",
       "      <th>Occ</th>\n",
       "      <th>Cluster_standard</th>\n",
       "      <th>Cluster_combined</th>\n",
       "      <th>Cluster_Rec</th>\n",
       "    </tr>\n",
       "  </thead>\n",
       "  <tbody>\n",
       "    <tr>\n",
       "      <th>Public sphere</th>\n",
       "      <td>32</td>\n",
       "      <td>1</td>\n",
       "      <td>18</td>\n",
       "      <td>1</td>\n",
       "    </tr>\n",
       "    <tr>\n",
       "      <th>Justice</th>\n",
       "      <td>26</td>\n",
       "      <td>10</td>\n",
       "      <td>2</td>\n",
       "      <td>1</td>\n",
       "    </tr>\n",
       "    <tr>\n",
       "      <th>Law</th>\n",
       "      <td>26</td>\n",
       "      <td>10</td>\n",
       "      <td>2</td>\n",
       "      <td>1</td>\n",
       "    </tr>\n",
       "  </tbody>\n",
       "</table>\n",
       "</div>"
      ],
      "text/plain": [
       "               Occ  Cluster_standard  Cluster_combined  Cluster_Rec\n",
       "Public sphere   32                 1                18            1\n",
       "Justice         26                10                 2            1\n",
       "Law             26                10                 2            1"
      ]
     },
     "execution_count": 31,
     "metadata": {},
     "output_type": "execute_result"
    }
   ],
   "source": [
    "final[final['Cluster_Rec']==1]"
   ]
  },
  {
   "cell_type": "code",
   "execution_count": 32,
   "metadata": {},
   "outputs": [
    {
     "data": {
      "text/html": [
       "<div>\n",
       "<style scoped>\n",
       "    .dataframe tbody tr th:only-of-type {\n",
       "        vertical-align: middle;\n",
       "    }\n",
       "\n",
       "    .dataframe tbody tr th {\n",
       "        vertical-align: top;\n",
       "    }\n",
       "\n",
       "    .dataframe thead th {\n",
       "        text-align: right;\n",
       "    }\n",
       "</style>\n",
       "<table border=\"1\" class=\"dataframe\">\n",
       "  <thead>\n",
       "    <tr style=\"text-align: right;\">\n",
       "      <th></th>\n",
       "      <th>Occ</th>\n",
       "      <th>Cluster_standard</th>\n",
       "      <th>Cluster_combined</th>\n",
       "      <th>Cluster_Rec</th>\n",
       "    </tr>\n",
       "  </thead>\n",
       "  <tbody>\n",
       "    <tr>\n",
       "      <th>Donald Trump</th>\n",
       "      <td>59</td>\n",
       "      <td>0</td>\n",
       "      <td>1</td>\n",
       "      <td>10</td>\n",
       "    </tr>\n",
       "    <tr>\n",
       "      <th>Political career of Donald Trump</th>\n",
       "      <td>52</td>\n",
       "      <td>0</td>\n",
       "      <td>1</td>\n",
       "      <td>10</td>\n",
       "    </tr>\n",
       "    <tr>\n",
       "      <th>Presidency of Donald Trump</th>\n",
       "      <td>28</td>\n",
       "      <td>0</td>\n",
       "      <td>1</td>\n",
       "      <td>7</td>\n",
       "    </tr>\n",
       "    <tr>\n",
       "      <th>Later lives</th>\n",
       "      <td>26</td>\n",
       "      <td>0</td>\n",
       "      <td>1</td>\n",
       "      <td>7</td>\n",
       "    </tr>\n",
       "    <tr>\n",
       "      <th>Trump family</th>\n",
       "      <td>25</td>\n",
       "      <td>0</td>\n",
       "      <td>1</td>\n",
       "      <td>7</td>\n",
       "    </tr>\n",
       "    <tr>\n",
       "      <th>American anti–illegal immigration activists</th>\n",
       "      <td>12</td>\n",
       "      <td>0</td>\n",
       "      <td>1</td>\n",
       "      <td>24</td>\n",
       "    </tr>\n",
       "  </tbody>\n",
       "</table>\n",
       "</div>"
      ],
      "text/plain": [
       "                                             Occ  Cluster_standard  \\\n",
       "Donald Trump                                  59                 0   \n",
       "Political career of Donald Trump              52                 0   \n",
       "Presidency of Donald Trump                    28                 0   \n",
       "Later lives                                   26                 0   \n",
       "Trump family                                  25                 0   \n",
       "American anti–illegal immigration activists   12                 0   \n",
       "\n",
       "                                             Cluster_combined  Cluster_Rec  \n",
       "Donald Trump                                                1           10  \n",
       "Political career of Donald Trump                            1           10  \n",
       "Presidency of Donald Trump                                  1            7  \n",
       "Later lives                                                 1            7  \n",
       "Trump family                                                1            7  \n",
       "American anti–illegal immigration activists                 1           24  "
      ]
     },
     "execution_count": 32,
     "metadata": {},
     "output_type": "execute_result"
    }
   ],
   "source": [
    "final[final['Cluster_combined']==1]"
   ]
  },
  {
   "cell_type": "code",
   "execution_count": 33,
   "metadata": {},
   "outputs": [
    {
     "data": {
      "text/html": [
       "<div>\n",
       "<style scoped>\n",
       "    .dataframe tbody tr th:only-of-type {\n",
       "        vertical-align: middle;\n",
       "    }\n",
       "\n",
       "    .dataframe tbody tr th {\n",
       "        vertical-align: top;\n",
       "    }\n",
       "\n",
       "    .dataframe thead th {\n",
       "        text-align: right;\n",
       "    }\n",
       "</style>\n",
       "<table border=\"1\" class=\"dataframe\">\n",
       "  <thead>\n",
       "    <tr style=\"text-align: right;\">\n",
       "      <th></th>\n",
       "      <th>Occ</th>\n",
       "      <th>Cluster_standard</th>\n",
       "      <th>Cluster_combined</th>\n",
       "      <th>Cluster_Rec</th>\n",
       "    </tr>\n",
       "  </thead>\n",
       "  <tbody>\n",
       "    <tr>\n",
       "      <th>Public sphere</th>\n",
       "      <td>32</td>\n",
       "      <td>1</td>\n",
       "      <td>18</td>\n",
       "      <td>1</td>\n",
       "    </tr>\n",
       "    <tr>\n",
       "      <th>Human activities</th>\n",
       "      <td>27</td>\n",
       "      <td>1</td>\n",
       "      <td>23</td>\n",
       "      <td>0</td>\n",
       "    </tr>\n",
       "  </tbody>\n",
       "</table>\n",
       "</div>"
      ],
      "text/plain": [
       "                  Occ  Cluster_standard  Cluster_combined  Cluster_Rec\n",
       "Public sphere      32                 1                18            1\n",
       "Human activities   27                 1                23            0"
      ]
     },
     "execution_count": 33,
     "metadata": {},
     "output_type": "execute_result"
    }
   ],
   "source": [
    "final[final['Cluster_standard']==1]"
   ]
  },
  {
   "cell_type": "markdown",
   "metadata": {},
   "source": [
    "## Visualize Tree\n",
    "Here I used a small script to plot the tree structure and consider the differences between the 3 different methods."
   ]
  },
  {
   "cell_type": "code",
   "execution_count": 34,
   "metadata": {},
   "outputs": [],
   "source": [
    "\"\"\"\n",
    "=========================================\n",
    "Plot Hierarachical Clustering Dendrogram \n",
    "=========================================\n",
    "This example plots the corresponding dendrogram of a hierarchical clustering\n",
    "using AgglomerativeClustering and the dendrogram method available in scipy.\n",
    "\"\"\"\n",
    "\n",
    "import numpy as np\n",
    "\n",
    "from matplotlib import pyplot as plt\n",
    "from scipy.cluster.hierarchy import dendrogram\n",
    "from sklearn.datasets import load_iris\n",
    "from sklearn.cluster import AgglomerativeClustering\n",
    "\n",
    "def plot_dendrogram(model, **kwargs):\n",
    "\n",
    "    # Children of hierarchical clustering\n",
    "    children = model.children_\n",
    "\n",
    "    # Distances between each pair of children\n",
    "    # Since we don't have this information, we can use a uniform one for plotting\n",
    "    distance = np.arange(children.shape[0])\n",
    "\n",
    "    # The number of observations contained in each cluster level\n",
    "    no_of_observations = np.arange(2, children.shape[0]+2)\n",
    "\n",
    "    # Create linkage matrix and then plot the dendrogram\n",
    "    linkage_matrix = np.column_stack([children, distance, no_of_observations]).astype(float)\n",
    "\n",
    "    # Plot the corresponding dendrogram\n",
    "    dendrogram(linkage_matrix, **kwargs)"
   ]
  },
  {
   "cell_type": "code",
   "execution_count": 35,
   "metadata": {},
   "outputs": [
    {
     "data": {
      "image/png": "[encoded data removed]",
      "text/plain": [
       "<Figure size 720x720 with 1 Axes>"
      ]
     },
     "metadata": {},
     "output_type": "display_data"
    },
    {
     "data": {
      "image/png": "[encoded data removed]",
      "text/plain": [
       "<Figure size 720x720 with 1 Axes>"
      ]
     },
     "metadata": {},
     "output_type": "display_data"
    },
    {
     "data": {
      "image/png": "[encoded data removed]",
      "text/plain": [
       "<Figure size 720x720 with 1 Axes>"
      ]
     },
     "metadata": {},
     "output_type": "display_data"
    }
   ],
   "source": [
    "plt.figure(figsize=(10,10))\n",
    "plt.title('Hierarchical Clustering Dendrogram Standard')\n",
    "fig=plot_dendrogram(cluster_str, labels=cluster_str.labels_,orientation='left')\n",
    "plt.show()\n",
    "\n",
    "plt.figure(figsize=(10,10))\n",
    "plt.title('Hierarchical Clustering Dendrogram Composed')\n",
    "fig=plot_dendrogram(cluster_com, labels=cluster_com.labels_,orientation='left')\n",
    "plt.show()\n",
    "\n",
    "plt.figure(figsize=(10,10))\n",
    "plt.title('Hierarchical Clustering Dendrogram Reccomender')\n",
    "fig=plot_dendrogram(cluster_rec, labels=cluster_rec.labels_,orientation='left')\n",
    "plt.show()"
   ]
  },
  {
   "cell_type": "markdown",
   "metadata": {},
   "source": [
    "# Getting Tree into DataFrame and Json"
   ]
  },
  {
   "cell_type": "markdown",
   "metadata": {},
   "source": [
    "I choose to consider the factorization method, as it can be optimized by choosingthe number of features and may pick up more subtle similarities between topics."
   ]
  },
  {
   "cell_type": "code",
   "execution_count": 36,
   "metadata": {},
   "outputs": [],
   "source": [
    "cluster_final=cluster_rec"
   ]
  },
  {
   "cell_type": "markdown",
   "metadata": {},
   "source": [
    "In order to build the tructure tree, I will get from the cluster the children of each node, that defines completly the structure of the tree. The output of the sklearn clustering is a bit involved but the output is explained in their documentation as follow:\n",
    "\n",
    "\"children_ : array-like, shape (n_samples-1, 2)\n",
    "The children of each non-leaf node. Values less than n_samples correspond \n",
    "to leaves of the tree which are the original samples.\n",
    "A node i greater than or equal to n_samples is a non-leaf node \n",
    "and has children children_[i - n_samples]. \n",
    "Alternatively at the i-th iteration, children[i][0] and children[i][1] \n",
    "are merged to form node n_samples + i\"\n",
    "\n",
    "The following cells are not reader-friendly but the final result is a clear database that can be saved as a json file."
   ]
  },
  {
   "cell_type": "code",
   "execution_count": 37,
   "metadata": {},
   "outputs": [],
   "source": [
    "children=cluster_final.children_\n",
    "\n",
    "children_df=pd.DataFrame(data=children,index=range(len(children)), columns=['C1','C2'])"
   ]
  },
  {
   "cell_type": "code",
   "execution_count": 38,
   "metadata": {},
   "outputs": [],
   "source": [
    "temp=[]\n",
    "for i in range(cluster_final.n_leaves_,np.amax(children)+1):\n",
    "    temp.append([i,cluster_final.children_[i - cluster_final.n_leaves_][0],\n",
    "                cluster_final.children_[i - cluster_final.n_leaves_][1]])"
   ]
  },
  {
   "cell_type": "code",
   "execution_count": 39,
   "metadata": {},
   "outputs": [],
   "source": [
    "# Define node IDs column\n",
    "nodes_df=pd.DataFrame(data=temp,index=range(len(temp)),columns=['node_id','C1_','C2_'])\n",
    "tot_df=pd.concat([nodes_df,children_df],axis=1).fillna(-1)[['node_id','C1','C2']]\n",
    "tot_df['node_id']=tot_df['node_id'].apply(int)"
   ]
  },
  {
   "cell_type": "code",
   "execution_count": 40,
   "metadata": {},
   "outputs": [],
   "source": [
    "# Define parents ID column\n",
    "parent=[]\n",
    "for i in range(len(tot_df)):\n",
    "    for j in range(len(tot_df)):\n",
    "        if tot_df.loc[i,'node_id'] in [tot_df.loc[j,'C1'],tot_df.loc[j,'C2']]:\n",
    "            parent.append(j)\n",
    "    if len(parent)==i:\n",
    "        parent.append(-1)\n",
    "\n",
    "tot_df['Parent_id']=parent # not needed after all"
   ]
  },
  {
   "cell_type": "code",
   "execution_count": 41,
   "metadata": {},
   "outputs": [],
   "source": [
    "# Mapping Categoricals \n",
    "df_alternative=tot_df.copy()\n",
    "df_alternative['C1']=df_alternative['C1'].replace(cat_map)\n",
    "df_alternative['C2']=df_alternative['C2'].replace(cat_map)"
   ]
  },
  {
   "cell_type": "code",
   "execution_count": 42,
   "metadata": {},
   "outputs": [],
   "source": [
    "# Adding Occurences to each topic to be displayed with the correct font size\n",
    "df_alternative['C1'].replace(cat_map)\n",
    "\n",
    "try_list=[]\n",
    "for i in range(len(df_alternative)):\n",
    "    if type(df_alternative.loc[i,'C1'])==str:\n",
    "        word=(df_alternative.loc[i,'C1'])\n",
    "        count=(occ_map[df_alternative.loc[i,'C1']])\n",
    "        try_list.append([word, count])\n",
    "    else:\n",
    "        try_list.append(df_alternative.loc[i,'C1'])\n",
    "df_alternative['C1']=try_list\n",
    "\n",
    "try_list=[]\n",
    "for i in range(len(df_alternative)):\n",
    "    if type(df_alternative.loc[i,'C2'])==str:\n",
    "        word=(df_alternative.loc[i,'C2'])\n",
    "        count=(occ_map[df_alternative.loc[i,'C2']])\n",
    "        try_list.append([word, count])\n",
    "    else:\n",
    "        try_list.append(df_alternative.loc[i,'C2'])\n",
    "df_alternative['C2']=try_list"
   ]
  },
  {
   "cell_type": "code",
   "execution_count": 43,
   "metadata": {},
   "outputs": [],
   "source": [
    "temp=tot_df[tot_df['node_id']==-1][['node_id','C1','C2']] # add root node ID/Parent as -1"
   ]
  },
  {
   "cell_type": "code",
   "execution_count": 44,
   "metadata": {},
   "outputs": [],
   "source": [
    "df_alternative=df_alternative.drop('Parent_id',axis=1).rename(columns={'C1':'Child_1','C2':'Child_2'})"
   ]
  },
  {
   "cell_type": "markdown",
   "metadata": {},
   "source": [
    "## Save Json\n",
    "\n",
    "We finally can save our tree structure into a json file. This will be a dataframe with the following columns: \n",
    "\n",
    "node_ID, Child_1, Child_2.\n",
    "\n",
    "\n",
    "The Child_1, Child_2 entries can either be an index of a children node or, in the case of a leaf, a list in the form [\"Topic\",\"Size\"]. In this way it will be fast for each node to get all the leaves associated with it."
   ]
  },
  {
   "cell_type": "code",
   "execution_count": 45,
   "metadata": {},
   "outputs": [],
   "source": [
    "# Save to json with filename\n",
    "\n",
    "filename='compact_df.json'\n",
    "\n",
    "with open(filename, 'w') as f:\n",
    "    f.write(df_alternative.to_json(orient='records', lines=True))"
   ]
  },
  {
   "cell_type": "code",
   "execution_count": 46,
   "metadata": {},
   "outputs": [
    {
     "data": {
      "text/html": [
       "<div>\n",
       "<style scoped>\n",
       "    .dataframe tbody tr th:only-of-type {\n",
       "        vertical-align: middle;\n",
       "    }\n",
       "\n",
       "    .dataframe tbody tr th {\n",
       "        vertical-align: top;\n",
       "    }\n",
       "\n",
       "    .dataframe thead th {\n",
       "        text-align: right;\n",
       "    }\n",
       "</style>\n",
       "<table border=\"1\" class=\"dataframe\">\n",
       "  <thead>\n",
       "    <tr style=\"text-align: right;\">\n",
       "      <th></th>\n",
       "      <th>Child_1</th>\n",
       "      <th>Child_2</th>\n",
       "      <th>node_id</th>\n",
       "    </tr>\n",
       "  </thead>\n",
       "  <tbody>\n",
       "    <tr>\n",
       "      <th>0</th>\n",
       "      <td>[International sports competitions, 8]</td>\n",
       "      <td>[Team sports, 8]</td>\n",
       "      <td>110</td>\n",
       "    </tr>\n",
       "    <tr>\n",
       "      <th>1</th>\n",
       "      <td>[Association football competitions, 11]</td>\n",
       "      <td>[FIFA competitions, 9]</td>\n",
       "      <td>111</td>\n",
       "    </tr>\n",
       "    <tr>\n",
       "      <th>2</th>\n",
       "      <td>[International association football competitio...</td>\n",
       "      <td>[Sports competitions, 8]</td>\n",
       "      <td>112</td>\n",
       "    </tr>\n",
       "    <tr>\n",
       "      <th>3</th>\n",
       "      <td>[Sports, 15]</td>\n",
       "      <td>111</td>\n",
       "      <td>113</td>\n",
       "    </tr>\n",
       "    <tr>\n",
       "      <th>4</th>\n",
       "      <td>[Sports events, 8]</td>\n",
       "      <td>113</td>\n",
       "      <td>114</td>\n",
       "    </tr>\n",
       "  </tbody>\n",
       "</table>\n",
       "</div>"
      ],
      "text/plain": [
       "                                             Child_1  \\\n",
       "0             [International sports competitions, 8]   \n",
       "1            [Association football competitions, 11]   \n",
       "2  [International association football competitio...   \n",
       "3                                       [Sports, 15]   \n",
       "4                                 [Sports events, 8]   \n",
       "\n",
       "                    Child_2  node_id  \n",
       "0          [Team sports, 8]      110  \n",
       "1    [FIFA competitions, 9]      111  \n",
       "2  [Sports competitions, 8]      112  \n",
       "3                       111      113  \n",
       "4                       113      114  "
      ]
     },
     "execution_count": 46,
     "metadata": {},
     "output_type": "execute_result"
    }
   ],
   "source": [
    "# Here I test reading the json to make sure parsing works correctly\n",
    "pd.read_json('compact_df.json', lines=True).head()"
   ]
  },
  {
   "cell_type": "markdown",
   "metadata": {},
   "source": [
    "# Usage"
   ]
  },
  {
   "cell_type": "markdown",
   "metadata": {},
   "source": [
    "In the provided solution you will find the following files:\n",
    "\n",
    "compact_df.json - the stored dataframe from the above study\n",
    "\n",
    "Cluster.py - a class script to build a tree from a dataframe and navigate trought it.\n",
    "\n",
    "Words_Cloud_Splitter.ipynb - a user-friendly notebook to load the data and navigate the tree.\n"
   ]
  },
  {
   "cell_type": "markdown",
   "metadata": {},
   "source": [
    "# Problems and possible Improvements"
   ]
  },
  {
   "cell_type": "markdown",
   "metadata": {},
   "source": [
    "The above is a first prototype that can be a used as a benkmark. Next, we would improve both the clustering and the storing procedure.\n",
    "\n",
    "To make sure the algorithm is correct I compared the largest clusters between different methods. Results appear to be reasonable with a small margin of miss-clustering.\n",
    "\n",
    "I noticed, for instance, that the clustering (the tree-structure) is quite unbalanced. This is caused by the small dataset at hand, where political topics are more frequent. The aggregation procedure and the distance measure could be modified in order to provide a more balanced tree.\n",
    "\n",
    "For production, the database could be build with faster methods like K-means, scaling better for large datasets. Nonetheless, fast computation time for the clustering is not the main goal of this software. The most important factor would be reading time. The tree structure provided is a very efficient method to store clusters."
   ]
  },
  {
   "cell_type": "markdown",
   "metadata": {},
   "source": [
    "Additional Notes:\n",
    "To check consistencies we can use Adjusted Rand index to compare various models or to test again human labelling of a randomly selected test-set.\n",
    "\n",
    "Adjusted Rand index:\n",
    "- Symmetric\n",
    "- Permutation independent\n",
    "- Label name independent\n",
    "\n"
   ]
  },
  {
   "cell_type": "markdown",
   "metadata": {},
   "source": [
    "# Parameters\n",
    " \n",
    "- Metric/Distance/Vecotors\n",
    "- hyper-parameters: Factorization dimention\n",
    "- Method (K-means/Agglomerate)\n",
    "\n",
    "if Agglomerate:\n",
    "- Connectivity matrix (faster)\n",
    "- Linkage type\n",
    "\n",
    "\n",
    "How to compare models:\n",
    "\n",
    "- Silhouette Coefficient\n",
    "- Indexes/scores (only Eucledean)\n",
    "- Human labelling"
   ]
  },
  {
   "cell_type": "code",
   "execution_count": null,
   "metadata": {},
   "outputs": [],
   "source": []
  }
 ],
 "metadata": {
  "kernelspec": {
   "display_name": "Python 3",
   "language": "python",
   "name": "python3"
  },
  "language_info": {
   "codemirror_mode": {
    "name": "ipython",
    "version": 3
   },
   "file_extension": ".py",
   "mimetype": "text/x-python",
   "name": "python",
   "nbconvert_exporter": "python",
   "pygments_lexer": "ipython3",
   "version": "3.6.5"
  }
 },
 "nbformat": 4,
 "nbformat_minor": 2
}
